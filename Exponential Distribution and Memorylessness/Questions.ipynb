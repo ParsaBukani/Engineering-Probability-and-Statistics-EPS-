{
 "cells": [
  {
   "cell_type": "markdown",
   "metadata": {
    "id": "9hMpr80Q3cOi"
   },
   "source": [
    "## Section 1:"
   ]
  },
  {
   "cell_type": "code",
   "execution_count": 2,
   "metadata": {
    "id": "AxieL-uH3cOl",
    "vscode": {
     "languageId": "r"
    }
   },
   "outputs": [],
   "source": [
    "set.seed(51)\n",
    "options(repr.plot.width = 12, repr.plot.height = 6)\n",
    "\n",
    "exponential_distribution <- function(rate, num_samples) {# + duration as argument\n",
    "  return (rexp(num_samples, rate))\n",
    "\n",
    "  # If duration was added the code will be as the following:\n",
    "\n",
    "  # arrival_times <- rexp(num_samples, rate)\n",
    "  # valid_arrivals <- c()\n",
    "\n",
    "  # shift_duration <- 0\n",
    "  # i <- 1\n",
    "  # while (shift_duration <= duration && i <= length(arrival_times)) {\n",
    "  #   shift_duration <- shift_duration + arrival_times[i]\n",
    "  #   valid_arrivals <- c(valid_arrivals, arrival_times[i])\n",
    "  #   i <- i + 1\n",
    "  # }\n",
    "  # return(valid_arrivals)\n",
    "}\n"
   ]
  },
  {
   "cell_type": "markdown",
   "metadata": {
    "id": "NG-jnpHd3cOy"
   },
   "source": [
    "## Section 2:"
   ]
  },
  {
   "cell_type": "code",
   "execution_count": 3,
   "metadata": {
    "id": "CeZA6KFb3cO1",
    "vscode": {
     "languageId": "r"
    }
   },
   "outputs": [],
   "source": [
    "inter_arrival_times_above_12mins <- function(inter_arrival_times) {\n",
    "  times_beyond_threshold <- inter_arrival_times[inter_arrival_times > 12] - 12\n",
    "  return(times_beyond_threshold)\n",
    "}"
   ]
  },
  {
   "cell_type": "markdown",
   "metadata": {
    "id": "KKegXNwe3cO2"
   },
   "source": [
    "## Section 3:"
   ]
  },
  {
   "cell_type": "code",
   "execution_count": 4,
   "metadata": {
    "colab": {
     "base_uri": "https://localhost:8080/",
     "height": 377
    },
    "id": "jVHyx0pR3cO4",
    "outputId": "cae3b3b3-5eec-49b6-e186-6ac39e557f6b",
    "vscode": {
     "languageId": "r"
    }
   },
   "outputs": [
    {
     "data": {
      "image/png": "[encoded data removed]",
      "text/plain": [
       "Plot with title \"Times Beyond 12 Minutes for m = 1000\""
      ]
     },
     "metadata": {
      "image/png": {
       "height": 360,
       "width": 720
      }
     },
     "output_type": "display_data"
    }
   ],
   "source": [
    "rate <- 1/15\n",
    "m_values <- c(10, 100, 1000)\n",
    "\n",
    "par(mfrow = c(3, 2), bg = \"white\")\n",
    "for (m in m_values) {\n",
    "        num_samples <- 100 * m\n",
    "        inter_arrival_times <- exponential_distribution(rate, num_samples)\n",
    "        times_beyond_threshold <- inter_arrival_times_above_12mins(inter_arrival_times)\n",
    "\n",
    "        mean_exp <- mean(inter_arrival_times)\n",
    "        mean_threshold <- mean(times_beyond_threshold)\n",
    "\n",
    "        hist(inter_arrival_times, main = paste(\"Exponential Distribution for m =\", m),\n",
    "                xlab = \"Inter-Arrival Times\", col = \"lightblue\", border = \"black\", breaks = 30, probability=TRUE)\n",
    "        mtext(paste(\"Mean =\", round(mean_exp, 2)), side = 1, line = 4, cex = 0.8)\n",
    "\n",
    "        hist(times_beyond_threshold, main = paste(\"Times Beyond 12 Minutes for m =\", m),\n",
    "                xlab = \"Inter-Arrival Times Beyond 12 Minutes\", col = \"pink\", border = \"black\", breaks = 30, probability=TRUE)\n",
    "        mtext(paste(\"Mean =\", round(mean_threshold, 2)), side = 1, line = 4, cex = 0.8)\n",
    "}"
   ]
  },
  {
   "cell_type": "markdown",
   "metadata": {
    "id": "orx_T5Ko3cO9"
   },
   "source": [
    "## Section 4:"
   ]
  },
  {
   "cell_type": "markdown",
   "metadata": {
    "id": "IN4b8q783cO_"
   },
   "source": [
    "Analyzing the histograms for times exceeding 12 minutes, the shape remains consistent with what is observed in the original exponential distribution. This suggests that, even after waiting for 12 minutes, the probability of waiting an additional amount of time does not depend on the 12 minutes already passed. Instead, the distribution of these additional waiting times mirrors the original distribution.\n",
    "\n",
    "**Conclusion:**\n",
    "The probability of the next event (customer arrival) is not influenced by the time already spent waiting (12 minutes in this case)."
   ]
  },
  {
   "cell_type": "markdown",
   "metadata": {
    "id": "w7YskeTl3cPA"
   },
   "source": [
    "## Section 5:"
   ]
  },
  {
   "cell_type": "code",
   "execution_count": 5,
   "metadata": {
    "colab": {
     "base_uri": "https://localhost:8080/"
    },
    "id": "WHj8tnV-3cPA",
    "outputId": "dbd9cba2-ae8a-4495-d1bf-a860db437be6",
    "vscode": {
     "languageId": "r"
    }
   },
   "outputs": [
    {
     "name": "stdout",
     "output_type": "stream",
     "text": [
      "Empirical Probability:  0.1810872 \n",
      "Theoretical Probability (P(t <= 3)):  0.1812692 \n"
     ]
    }
   ],
   "source": [
    "num_samples <- 1000 * 100\n",
    "inter_arrival_times <- exponential_distribution(rate, num_samples)\n",
    "times_beyond_12 <- inter_arrival_times_above_12mins(inter_arrival_times)\n",
    "\n",
    "count <- 0\n",
    "total <- length(times_beyond_12)\n",
    "for (t in times_beyond_12) {\n",
    "    if (t <= 3) { # 15 - 12 = 3\n",
    "        count <- count + 1\n",
    "    }\n",
    "}\n",
    "empirical_probability <- count / total\n",
    "cat(\"Empirical Probability: \", empirical_probability, \"\\n\")\n",
    "\n",
    "\n",
    "theoretical_probability <- pexp(3, rate)\n",
    "cat(\"Theoretical Probability (P(t <= 3)): \", theoretical_probability, \"\\n\")\n"
   ]
  },
  {
   "cell_type": "markdown",
   "metadata": {
    "id": "awtWDObg3cPD"
   },
   "source": [
    "The empirical probability obtained from the simulated data closely match the theoretical probability calculated using the exponential distribution formula. This demonstrates the memoryless property of the exponential distribution, where the waiting time for the next customer remains independent of the time already elapsed."
   ]
  }
 ],
 "metadata": {
  "colab": {
   "provenance": []
  },
  "kernelspec": {
   "display_name": "R",
   "language": "R",
   "name": "ir"
  },
  "language_info": {
   "codemirror_mode": "r",
   "file_extension": ".r",
   "mimetype": "text/x-r-source",
   "name": "R",
   "pygments_lexer": "r",
   "version": "4.4.2"
  }
 },
 "nbformat": 4,
 "nbformat_minor": 0
}
